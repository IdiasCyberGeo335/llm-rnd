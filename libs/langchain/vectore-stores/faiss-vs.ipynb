{
 "cells": [
  {
   "cell_type": "markdown",
   "id": "2b105321",
   "metadata": {},
   "source": [
    "### HF Embeddings"
   ]
  },
  {
   "cell_type": "code",
   "execution_count": 2,
   "id": "f763e627",
   "metadata": {},
   "outputs": [],
   "source": [
    "\"\"\"pip3 install langchain-huggingface\"\"\"\n",
    "from langchain_huggingface import HuggingFaceEmbeddings"
   ]
  },
  {
   "cell_type": "code",
   "execution_count": 3,
   "id": "0bd75220",
   "metadata": {},
   "outputs": [
    {
     "name": "stderr",
     "output_type": "stream",
     "text": [
      "/home/retro0/cyberspace/ENVIRONMENTS/back_venv/lib/python3.12/site-packages/tqdm/auto.py:21: TqdmWarning: IProgress not found. Please update jupyter and ipywidgets. See https://ipywidgets.readthedocs.io/en/stable/user_install.html\n",
      "  from .autonotebook import tqdm as notebook_tqdm\n"
     ]
    }
   ],
   "source": [
    "embeddings = HuggingFaceEmbeddings(\n",
    "    model_name = \"sentence-transformers/all-mpnet-base-v2\",\n",
    ")"
   ]
  },
  {
   "cell_type": "markdown",
   "id": "0450a62d",
   "metadata": {},
   "source": [
    "### Select Vector Store"
   ]
  },
  {
   "cell_type": "code",
   "execution_count": 4,
   "id": "3d33ad64",
   "metadata": {},
   "outputs": [],
   "source": [
    "\"\"\"pip3 install faiss-cpu\"\"\"\n",
    "import faiss\n",
    "\n",
    "from langchain_community.docstore.in_memory import InMemoryDocstore\n",
    "from langchain_community.vectorstores import FAISS\n",
    "\n",
    "\"\"\"From config\"\"\"\n",
    "embedding_dim = 768"
   ]
  },
  {
   "cell_type": "code",
   "execution_count": 5,
   "id": "2fe5d3c3",
   "metadata": {},
   "outputs": [],
   "source": [
    "index = faiss.IndexFlatL2(embedding_dim)\n",
    "\n",
    "vector_store = FAISS(\n",
    "    embedding_function=embeddings,\n",
    "    index=index,\n",
    "    docstore=InMemoryDocstore(),\n",
    "    index_to_docstore_id={}\n",
    ")"
   ]
  }
 ],
 "metadata": {
  "kernelspec": {
   "display_name": "back_venv",
   "language": "python",
   "name": "python3"
  },
  "language_info": {
   "codemirror_mode": {
    "name": "ipython",
    "version": 3
   },
   "file_extension": ".py",
   "mimetype": "text/x-python",
   "name": "python",
   "nbconvert_exporter": "python",
   "pygments_lexer": "ipython3",
   "version": "3.12.3"
  }
 },
 "nbformat": 4,
 "nbformat_minor": 5
}
