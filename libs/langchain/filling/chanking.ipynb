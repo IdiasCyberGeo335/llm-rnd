{
 "cells": [
  {
   "cell_type": "code",
   "execution_count": 9,
   "id": "159c8a3e",
   "metadata": {},
   "outputs": [],
   "source": [
    "from langchain_community.document_loaders import PyPDFLoader\n",
    "from langchain.text_splitter import RecursiveCharacterTextSplitter\n",
    "from loguru import logger\n",
    "import json"
   ]
  },
  {
   "cell_type": "markdown",
   "id": "68737dd5",
   "metadata": {},
   "source": [
    "#### def ChunkLaw()\n",
    "* chunk_size -> определяет максимальный размер чанка (в теории надо ориентироваться на максимальную длину модели)\n",
    "* chunk_overlap -> задаёт сколько символов из конца предыдущего чанка попадёт в начало следующего"
   ]
  },
  {
   "cell_type": "code",
   "execution_count": 2,
   "id": "88f87beb",
   "metadata": {},
   "outputs": [],
   "source": [
    "def ChunkLaw():\n",
    "    files_path = [\n",
    "    \"/home/retro0/cyberspace/projects/ml/llm/law-llm/data_source/_Гражданский_кодекс_Российской_Федерации_часть_первая.pdf\",\n",
    "    \"/home/retro0/cyberspace/projects/ml/llm/law-llm/data_source/_Гражданский_кодекс_Российской_Федерации_часть_вторая.pdf\",\n",
    "    \"/home/retro0/cyberspace/projects/ml/llm/law-llm/data_source/_Гражданский_кодекс_Российской_Федерации_часть_третья.pdf\",\n",
    "    \"/home/retro0/cyberspace/projects/ml/llm/law-llm/data_source/_Гражданский_кодекс_Российской_Федерации_часть_четверт.pdf\",\n",
    "    ]\n",
    "\n",
    "    documents = []\n",
    "\n",
    "    for path in files_path:\n",
    "        loader = PyPDFLoader(path)\n",
    "        documents.extend(loader.load())\n",
    "        #logger.info(documents)\n",
    "\n",
    "    text_splitter = RecursiveCharacterTextSplitter(\n",
    "        chunk_size = 4096,\n",
    "        chunk_overlap = 128\n",
    "    )\n",
    "\n",
    "    chunk_docs = text_splitter.split_documents(documents)\n",
    "\n",
    "    #logger.info(documents)\n",
    "\n",
    "    return chunk_docs"
   ]
  },
  {
   "cell_type": "code",
   "execution_count": 3,
   "id": "c4863fce",
   "metadata": {},
   "outputs": [],
   "source": [
    "chanking = ChunkLaw()"
   ]
  },
  {
   "cell_type": "code",
   "execution_count": 8,
   "id": "c5e711ff",
   "metadata": {},
   "outputs": [
    {
     "data": {
      "text/plain": [
       "Document(metadata={'producer': 'Skia/PDF m128', 'creator': 'Mozilla/5.0 (Windows NT 10.0; Win64; x64) AppleWebKit/537.36 (KHTML, like Gecko) Chrome/128.0.0.0 Safari/537.36', 'creationdate': '2024-11-18T21:12:26+00:00', 'title': '\"Гражданский кодекс Российской Федерации (часть первая)\" от 30.11.1994 N 51-ФЗ (ред. от 08.08.2024, с изм. от 31.10.2024) - КонсультантПлюс', 'moddate': '2024-11-18T21:12:26+00:00', 'source': '/home/retro0/cyberspace/projects/ml/llm/law-llm/data_source/_Гражданский_кодекс_Российской_Федерации_часть_первая.pdf', 'total_pages': 257, 'page': 0, 'page_label': '1'}, page_content='30 ноября 1994 года N 51-ФЗ\\n \\n \\nГРАЖДАНСКИЙ КОДЕКС РОССИЙСКОЙ ФЕДЕРАЦИИ\\n \\nЧАСТЬ ПЕРВАЯ\\n \\nПринят\\nГосударственной Думой\\n21 октября 1994 года\\nЧасть вторая, часть третья и часть четвертая\\nГражданского кодекса РФ\\nвведены в информационный банк отдельными документами\\nСписок изменяющих документов\\n(в ред. Федеральных законов от 20.02.1996 N 18-ФЗ, от 12.08.1996 N 111-ФЗ,\\nот 08.07.1999 N 138-ФЗ, от 16.04.2001 N 45-ФЗ, от 15.05.2001 N 54-ФЗ,\\nот 21.03.2002 N 31-ФЗ, от 14.11.2002 N 161-ФЗ, от 26.11.2002 N 152-ФЗ,\\nот 10.01.2003 N 15-ФЗ, от 23.12.2003 N 182-ФЗ, от 29.06.2004 N 58-ФЗ,\\nот 29.07.2004 N 97-ФЗ, от 29.12.2004 N 192-ФЗ, от 30.12.2004 N 213-ФЗ,\\nот 30.12.2004 N 217-ФЗ, от 02.07.2005 N 83-ФЗ, от 21.07.2005 N 109-ФЗ,\\nот 03.01.2006 N 6-ФЗ, от 10.01.2006 N 18-ФЗ, от 03.06.2006 N 73-ФЗ,\\nот 30.06.2006 N 93-ФЗ, от 27.07.2006 N 138-ФЗ, от 03.11.2006 N 175-ФЗ,\\nот 04.12.2006 N 201-ФЗ, от 18.12.2006 N 231-ФЗ, от 18.12.2006 N 232-ФЗ,\\nот 29.12.2006 N 258-ФЗ, от 05.02.2007 N 13-ФЗ, от 26.06.2007 N 118-ФЗ,\\nот 19.07.2007 N 197-ФЗ, от 02.10.2007 N 225-ФЗ, от 01.12.2007 N 318-ФЗ,\\nот 06.12.2007 N 333-ФЗ, от 24.04.2008 N 49-ФЗ, от 13.05.2008 N 68-ФЗ,\\nот 14.07.2008 N 118-ФЗ, от 22.07.2008 N 141-ФЗ, от 23.07.2008 N 160-ФЗ,\\nот 30.12.2008 N 306-ФЗ, от 30.12.2008 N 311-ФЗ, от 30.12.2008 N 312-ФЗ,\\nот 30.12.2008 N 315-ФЗ, от 09.02.2009 N 7-ФЗ, от 29.06.2009 N 132-ФЗ,\\nот 17.07.2009 N 145-ФЗ, от 27.12.2009 N 352-ФЗ, от 08.05.2010 N 83-ФЗ,\\nот 27.07.2010 N 194-ФЗ, от 07.02.2011 N 4-ФЗ, от 06.04.2011 N 65-ФЗ,\\nот 28.11.2011 N 337-ФЗ, от 30.11.2011 N 363-ФЗ, от 06.12.2011 N 393-ФЗ,\\nот 06.12.2011 N 405-ФЗ, от 03.12.2012 N 231-ФЗ, от 03.12.2012 N 240-ФЗ,\\nот 29.12.2012 N 282-ФЗ, от 30.12.2012 N 302-ФЗ, от 11.02.2013 N 8-ФЗ,\\nот 07.05.2013 N 100-ФЗ, от 28.06.2013 N 134-ФЗ, от 02.07.2013 N 142-ФЗ,\\nот 02.07.2013 N 167-ФЗ, от 23.07.2013 N 245-ФЗ, от 02.11.2013 N 302-ФЗ,\\nот 21.12.2013 N 367-ФЗ, от 12.03.2014 N 35-ФЗ, от 05.05.2014 N 99-ФЗ,\\nот 05.05.2014 N 129-ФЗ, от 23.06.2014 N 171-ФЗ, от 22.10.2014 N 315-ФЗ,\\nот 31.12.2014 N 499-ФЗ, от 08.03.2015 N 42-ФЗ, от 06.04.2015 N 80-ФЗ,\\nот 23.05.2015 N 133-ФЗ, от 29.06.2015 N 154-ФЗ, от 29.06.2015 N 186-ФЗ,\\nот 29.06.2015 N 209-ФЗ, от 29.06.2015 N 210-ФЗ, от 13.07.2015 N 216-ФЗ,\\nот 13.07.2015 N 258-ФЗ, от 13.07.2015 N 268-ФЗ, от 30.12.2015 N 457-ФЗ,\\nот 31.01.2016 N 7-ФЗ, от 30.03.2016 N 79-ФЗ, от 23.05.2016 N 146-ФЗ,\\nот 03.07.2016 N 236-ФЗ, от 03.07.2016 N 315-ФЗ, от 03.07.2016 N 332-ФЗ,\\nот 03.07.2016 N 333-ФЗ, от 03.07.2016 N 354-ФЗ, от 28.12.2016 N 497-ФЗ,\\n19.11.2024, 00:12 \"Гражданский кодекс Российской Федерации (часть первая)\" от 30.11.1994 N 51-ФЗ (ред. от 08... \\\\ КонсультантПлюс\\nhttps://demo.consultant.ru/cgi/online.cgi?req=doc&rnd=mXSQEg&base=LAW&n=482692#8Pj1WUU4MFUg8SMJ 1/257')"
      ]
     },
     "execution_count": 8,
     "metadata": {},
     "output_type": "execute_result"
    }
   ],
   "source": [
    "chanking[0]"
   ]
  },
  {
   "cell_type": "code",
   "execution_count": null,
   "id": "aee97309",
   "metadata": {},
   "outputs": [
    {
     "ename": "TypeError",
     "evalue": "Object of type Document is not JSON serializable",
     "output_type": "error",
     "traceback": [
      "\u001b[31m---------------------------------------------------------------------------\u001b[39m",
      "\u001b[31mTypeError\u001b[39m                                 Traceback (most recent call last)",
      "\u001b[36mCell\u001b[39m\u001b[36m \u001b[39m\u001b[32mIn[10]\u001b[39m\u001b[32m, line 1\u001b[39m\n\u001b[32m----> \u001b[39m\u001b[32m1\u001b[39m json_example = \u001b[43mjson\u001b[49m\u001b[43m.\u001b[49m\u001b[43mdumps\u001b[49m\u001b[43m(\u001b[49m\u001b[43mchanking\u001b[49m\u001b[43m[\u001b[49m\u001b[32;43m0\u001b[39;49m\u001b[43m]\u001b[49m\u001b[43m,\u001b[49m\u001b[43m \u001b[49m\u001b[43mensure_ascii\u001b[49m\u001b[43m=\u001b[49m\u001b[38;5;28;43;01mFalse\u001b[39;49;00m\u001b[43m,\u001b[49m\u001b[43m \u001b[49m\u001b[43mindent\u001b[49m\u001b[43m=\u001b[49m\u001b[32;43m2\u001b[39;49m\u001b[43m)\u001b[49m\n",
      "\u001b[36mFile \u001b[39m\u001b[32m/usr/lib/python3.12/json/__init__.py:238\u001b[39m, in \u001b[36mdumps\u001b[39m\u001b[34m(obj, skipkeys, ensure_ascii, check_circular, allow_nan, cls, indent, separators, default, sort_keys, **kw)\u001b[39m\n\u001b[32m    232\u001b[39m \u001b[38;5;28;01mif\u001b[39;00m \u001b[38;5;28mcls\u001b[39m \u001b[38;5;129;01mis\u001b[39;00m \u001b[38;5;28;01mNone\u001b[39;00m:\n\u001b[32m    233\u001b[39m     \u001b[38;5;28mcls\u001b[39m = JSONEncoder\n\u001b[32m    234\u001b[39m \u001b[38;5;28;01mreturn\u001b[39;00m \u001b[38;5;28;43mcls\u001b[39;49m\u001b[43m(\u001b[49m\n\u001b[32m    235\u001b[39m \u001b[43m    \u001b[49m\u001b[43mskipkeys\u001b[49m\u001b[43m=\u001b[49m\u001b[43mskipkeys\u001b[49m\u001b[43m,\u001b[49m\u001b[43m \u001b[49m\u001b[43mensure_ascii\u001b[49m\u001b[43m=\u001b[49m\u001b[43mensure_ascii\u001b[49m\u001b[43m,\u001b[49m\n\u001b[32m    236\u001b[39m \u001b[43m    \u001b[49m\u001b[43mcheck_circular\u001b[49m\u001b[43m=\u001b[49m\u001b[43mcheck_circular\u001b[49m\u001b[43m,\u001b[49m\u001b[43m \u001b[49m\u001b[43mallow_nan\u001b[49m\u001b[43m=\u001b[49m\u001b[43mallow_nan\u001b[49m\u001b[43m,\u001b[49m\u001b[43m \u001b[49m\u001b[43mindent\u001b[49m\u001b[43m=\u001b[49m\u001b[43mindent\u001b[49m\u001b[43m,\u001b[49m\n\u001b[32m    237\u001b[39m \u001b[43m    \u001b[49m\u001b[43mseparators\u001b[49m\u001b[43m=\u001b[49m\u001b[43mseparators\u001b[49m\u001b[43m,\u001b[49m\u001b[43m \u001b[49m\u001b[43mdefault\u001b[49m\u001b[43m=\u001b[49m\u001b[43mdefault\u001b[49m\u001b[43m,\u001b[49m\u001b[43m \u001b[49m\u001b[43msort_keys\u001b[49m\u001b[43m=\u001b[49m\u001b[43msort_keys\u001b[49m\u001b[43m,\u001b[49m\n\u001b[32m--> \u001b[39m\u001b[32m238\u001b[39m \u001b[43m    \u001b[49m\u001b[43m*\u001b[49m\u001b[43m*\u001b[49m\u001b[43mkw\u001b[49m\u001b[43m)\u001b[49m\u001b[43m.\u001b[49m\u001b[43mencode\u001b[49m\u001b[43m(\u001b[49m\u001b[43mobj\u001b[49m\u001b[43m)\u001b[49m\n",
      "\u001b[36mFile \u001b[39m\u001b[32m/usr/lib/python3.12/json/encoder.py:202\u001b[39m, in \u001b[36mJSONEncoder.encode\u001b[39m\u001b[34m(self, o)\u001b[39m\n\u001b[32m    200\u001b[39m chunks = \u001b[38;5;28mself\u001b[39m.iterencode(o, _one_shot=\u001b[38;5;28;01mTrue\u001b[39;00m)\n\u001b[32m    201\u001b[39m \u001b[38;5;28;01mif\u001b[39;00m \u001b[38;5;129;01mnot\u001b[39;00m \u001b[38;5;28misinstance\u001b[39m(chunks, (\u001b[38;5;28mlist\u001b[39m, \u001b[38;5;28mtuple\u001b[39m)):\n\u001b[32m--> \u001b[39m\u001b[32m202\u001b[39m     chunks = \u001b[38;5;28;43mlist\u001b[39;49m\u001b[43m(\u001b[49m\u001b[43mchunks\u001b[49m\u001b[43m)\u001b[49m\n\u001b[32m    203\u001b[39m \u001b[38;5;28;01mreturn\u001b[39;00m \u001b[33m'\u001b[39m\u001b[33m'\u001b[39m.join(chunks)\n",
      "\u001b[36mFile \u001b[39m\u001b[32m/usr/lib/python3.12/json/encoder.py:439\u001b[39m, in \u001b[36m_make_iterencode.<locals>._iterencode\u001b[39m\u001b[34m(o, _current_indent_level)\u001b[39m\n\u001b[32m    437\u001b[39m         \u001b[38;5;28;01mraise\u001b[39;00m \u001b[38;5;167;01mValueError\u001b[39;00m(\u001b[33m\"\u001b[39m\u001b[33mCircular reference detected\u001b[39m\u001b[33m\"\u001b[39m)\n\u001b[32m    438\u001b[39m     markers[markerid] = o\n\u001b[32m--> \u001b[39m\u001b[32m439\u001b[39m o = \u001b[43m_default\u001b[49m\u001b[43m(\u001b[49m\u001b[43mo\u001b[49m\u001b[43m)\u001b[49m\n\u001b[32m    440\u001b[39m \u001b[38;5;28;01myield from\u001b[39;00m _iterencode(o, _current_indent_level)\n\u001b[32m    441\u001b[39m \u001b[38;5;28;01mif\u001b[39;00m markers \u001b[38;5;129;01mis\u001b[39;00m \u001b[38;5;129;01mnot\u001b[39;00m \u001b[38;5;28;01mNone\u001b[39;00m:\n",
      "\u001b[36mFile \u001b[39m\u001b[32m/usr/lib/python3.12/json/encoder.py:180\u001b[39m, in \u001b[36mJSONEncoder.default\u001b[39m\u001b[34m(self, o)\u001b[39m\n\u001b[32m    161\u001b[39m \u001b[38;5;28;01mdef\u001b[39;00m\u001b[38;5;250m \u001b[39m\u001b[34mdefault\u001b[39m(\u001b[38;5;28mself\u001b[39m, o):\n\u001b[32m    162\u001b[39m \u001b[38;5;250m    \u001b[39m\u001b[33;03m\"\"\"Implement this method in a subclass such that it returns\u001b[39;00m\n\u001b[32m    163\u001b[39m \u001b[33;03m    a serializable object for ``o``, or calls the base implementation\u001b[39;00m\n\u001b[32m    164\u001b[39m \u001b[33;03m    (to raise a ``TypeError``).\u001b[39;00m\n\u001b[32m   (...)\u001b[39m\u001b[32m    178\u001b[39m \n\u001b[32m    179\u001b[39m \u001b[33;03m    \"\"\"\u001b[39;00m\n\u001b[32m--> \u001b[39m\u001b[32m180\u001b[39m     \u001b[38;5;28;01mraise\u001b[39;00m \u001b[38;5;167;01mTypeError\u001b[39;00m(\u001b[33mf\u001b[39m\u001b[33m'\u001b[39m\u001b[33mObject of type \u001b[39m\u001b[38;5;132;01m{\u001b[39;00mo.\u001b[34m__class__\u001b[39m.\u001b[34m__name__\u001b[39m\u001b[38;5;132;01m}\u001b[39;00m\u001b[33m \u001b[39m\u001b[33m'\u001b[39m\n\u001b[32m    181\u001b[39m                     \u001b[33mf\u001b[39m\u001b[33m'\u001b[39m\u001b[33mis not JSON serializable\u001b[39m\u001b[33m'\u001b[39m)\n",
      "\u001b[31mTypeError\u001b[39m: Object of type Document is not JSON serializable"
     ]
    }
   ],
   "source": [
    "dicts = [\n",
    "    {\n",
    "        \"metadata\" : chanking[0].metadata,\n",
    "        \"page_content\": chanking[0].page_content,\n",
    "    }\n",
    "]\n",
    "\n",
    "json_example = json.dumps(dicts, ensure_ascii=False, indent=2)"
   ]
  },
  {
   "cell_type": "code",
   "execution_count": null,
   "id": "9b1f3811",
   "metadata": {},
   "outputs": [],
   "source": []
  }
 ],
 "metadata": {
  "kernelspec": {
   "display_name": "back_venv",
   "language": "python",
   "name": "python3"
  },
  "language_info": {
   "codemirror_mode": {
    "name": "ipython",
    "version": 3
   },
   "file_extension": ".py",
   "mimetype": "text/x-python",
   "name": "python",
   "nbconvert_exporter": "python",
   "pygments_lexer": "ipython3",
   "version": "3.12.3"
  }
 },
 "nbformat": 4,
 "nbformat_minor": 5
}
